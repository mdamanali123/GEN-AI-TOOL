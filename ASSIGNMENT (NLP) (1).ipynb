{
  "cells": [
    {
      "cell_type": "code",
      "execution_count": null,
      "id": "69bd4dd2-452d-40e2-b83c-05f7d72081b7",
      "metadata": {
        "id": "69bd4dd2-452d-40e2-b83c-05f7d72081b7",
        "outputId": "6cdcdc8d-01bd-4119-ee62-4ac917d899eb"
      },
      "outputs": [
        {
          "name": "stdout",
          "output_type": "stream",
          "text": [
            "NLP stands for Natural Language Processing.\n"
          ]
        }
      ],
      "source": [
        "###1.Print an f-string that displays NLP stands for Natural Language Processing using the variables provided.###\n",
        "L1=\" Natural Language Processing\"\n",
        "print(f'NLP stands for{L1}.')\n"
      ]
    },
    {
      "cell_type": "code",
      "execution_count": null,
      "id": "1bd7d3be-cbf2-4ea0-8556-7d82d11eca62",
      "metadata": {
        "id": "1bd7d3be-cbf2-4ea0-8556-7d82d11eca62"
      },
      "outputs": [],
      "source": [
        "###2.Create a file in the current working directory called contacts.txt by running the cell below.###"
      ]
    },
    {
      "cell_type": "code",
      "execution_count": null,
      "id": "c4ad1a5e-03ff-47d8-afbe-0fa0e7079e52",
      "metadata": {
        "id": "c4ad1a5e-03ff-47d8-afbe-0fa0e7079e52",
        "outputId": "6899c997-7b4d-43cb-c1d1-335ef2b43a76"
      },
      "outputs": [
        {
          "name": "stdout",
          "output_type": "stream",
          "text": [
            "Overwriting contacts.txt\n"
          ]
        }
      ],
      "source": [
        "%%writefile contacts.txt #Generating configuration files or other text-based files\n",
        "first part of the sentence.\n",
        "last part of the sentence."
      ]
    },
    {
      "cell_type": "code",
      "execution_count": null,
      "id": "ec0a8fde-b06f-4001-bdce-62ae53810730",
      "metadata": {
        "id": "ec0a8fde-b06f-4001-bdce-62ae53810730"
      },
      "outputs": [],
      "source": [
        "###3.Open the file and use .read() to save the contents of the file to a string called fields. Make sure the file is closed at the end.###"
      ]
    },
    {
      "cell_type": "code",
      "execution_count": null,
      "id": "76ad3eb2-3163-4389-ab7e-e92caef7534f",
      "metadata": {
        "id": "76ad3eb2-3163-4389-ab7e-e92caef7534f",
        "outputId": "bfee1835-2924-4ca2-9e44-d4c167edaf7e"
      },
      "outputs": [
        {
          "name": "stdout",
          "output_type": "stream",
          "text": [
            "first part of the sentence.\n",
            "last part of the sentence.\n",
            "\n"
          ]
        }
      ],
      "source": [
        "with open (\"contacts.txt\",\"r\") as L2:\n",
        "     L3 = L2.read()\n",
        "     print(L3)"
      ]
    },
    {
      "cell_type": "code",
      "execution_count": null,
      "id": "1344ede7-8096-4312-8ee6-e0df362554a1",
      "metadata": {
        "id": "1344ede7-8096-4312-8ee6-e0df362554a1"
      },
      "outputs": [],
      "source": [
        "###4.Use PyPDF2 to open the file Business_Proposal.pdf. Extract the text of page 2.###"
      ]
    },
    {
      "cell_type": "code",
      "execution_count": null,
      "id": "62cc6f4e-c9ff-4d43-8b60-a9d28979074c",
      "metadata": {
        "id": "62cc6f4e-c9ff-4d43-8b60-a9d28979074c",
        "outputId": "f955e6b6-5007-4806-9126-4c83e738ad3d"
      },
      "outputs": [
        {
          "name": "stdout",
          "output_type": "stream",
          "text": [
            "Defaulting to user installation because normal site-packages is not writeable\n",
            "Collecting PyPDF2\n",
            "  Downloading pypdf2-3.0.1-py3-none-any.whl.metadata (6.8 kB)\n",
            "Downloading pypdf2-3.0.1-py3-none-any.whl (232 kB)\n",
            "Installing collected packages: PyPDF2\n",
            "Successfully installed PyPDF2-3.0.1\n",
            "Note: you may need to restart the kernel to use updated packages.\n"
          ]
        }
      ],
      "source": [
        "pip install PyPDF2"
      ]
    },
    {
      "cell_type": "code",
      "execution_count": null,
      "id": "b23ec775-2029-4d7e-b34c-c6c2c4dde2a1",
      "metadata": {
        "id": "b23ec775-2029-4d7e-b34c-c6c2c4dde2a1"
      },
      "outputs": [],
      "source": [
        "import PyPDF2"
      ]
    },
    {
      "cell_type": "code",
      "execution_count": null,
      "id": "beded63a-5f14-49dc-9540-0b9fbb51f8b3",
      "metadata": {
        "id": "beded63a-5f14-49dc-9540-0b9fbb51f8b3"
      },
      "outputs": [],
      "source": [
        "ak=open('Business_Proposal (1).pdf','rb')"
      ]
    },
    {
      "cell_type": "code",
      "execution_count": null,
      "id": "4a3cf4cd-eca1-4058-80a0-afb94b405a7b",
      "metadata": {
        "id": "4a3cf4cd-eca1-4058-80a0-afb94b405a7b"
      },
      "outputs": [],
      "source": [
        "pdf=PyPDF2.PdfReader(ak)"
      ]
    },
    {
      "cell_type": "code",
      "execution_count": null,
      "id": "5b50fdc5-06b6-4590-8ac6-b13394f51a62",
      "metadata": {
        "id": "5b50fdc5-06b6-4590-8ac6-b13394f51a62"
      },
      "outputs": [],
      "source": [
        "page_two=pdf_reader.pages[1]  ###The [1] is necessary because pdf_reader.pages contains multiple pages, and you need to specify which page you want to access."
      ]
    },
    {
      "cell_type": "code",
      "execution_count": null,
      "id": "928c907d-71a3-4c96-97be-6b2624c61a82",
      "metadata": {
        "id": "928c907d-71a3-4c96-97be-6b2624c61a82"
      },
      "outputs": [],
      "source": [
        "page2 = page_two.extract_text() ##PDFs often contain text along with images and other elements. To process the text within a PDF, you need a way to extract it.\n",
        "##PyPDF2's extract_text() method provides a convenient way to do this."
      ]
    },
    {
      "cell_type": "code",
      "execution_count": null,
      "id": "4adc76ea-710f-40df-891f-9ee67b4818a8",
      "metadata": {
        "id": "4adc76ea-710f-40df-891f-9ee67b4818a8",
        "outputId": "b03661a1-f930-4da4-f3fe-bcaa4e96e3e7"
      },
      "outputs": [
        {
          "data": {
            "text/plain": [
              "'AUTHORS:  \\nAmy Baker, Finance Chair, x345, abaker@ourcompany.com  \\nChris Donaldson, Accounting Dir., x621, cdonaldson@ourcompany.com  \\nErin Freeman, Sr. VP, x879, efreeman@ourcompany.com  '"
            ]
          },
          "execution_count": 29,
          "metadata": {},
          "output_type": "execute_result"
        }
      ],
      "source": [
        "page2\n"
      ]
    },
    {
      "cell_type": "code",
      "execution_count": null,
      "id": "77ed0abd-a51d-4faa-889c-d2827c73a287",
      "metadata": {
        "id": "77ed0abd-a51d-4faa-889c-d2827c73a287"
      },
      "outputs": [],
      "source": [
        "ak.close()"
      ]
    },
    {
      "cell_type": "code",
      "execution_count": null,
      "id": "46bbb0a0-f0b6-4f05-bfa5-72febe7b84a3",
      "metadata": {
        "id": "46bbb0a0-f0b6-4f05-bfa5-72febe7b84a3"
      },
      "outputs": [],
      "source": [
        "###5.Open the file contacts.txt in append mode. Add the text of page 2 from above to contacts.txt.###"
      ]
    },
    {
      "cell_type": "code",
      "execution_count": null,
      "id": "dd8138af-9b00-45be-abf4-e1f822daf7b9",
      "metadata": {
        "id": "dd8138af-9b00-45be-abf4-e1f822daf7b9",
        "outputId": "882c9dde-49d0-4b92-cb51-e4114a3aa652"
      },
      "outputs": [
        {
          "data": {
            "text/plain": [
              "'first part of the sentence.\\nlast part of the sentence.\\nAUTHORS:  \\nAmy Baker, Finance Chair, x345, abaker@ourcompany.com  \\nChris Donaldson, Accounting Dir., x621, cdonaldson@ourcompany.com  \\nErin Freeman, Sr. VP, x879, efreeman@ourcompany.com  AUTHORS:  \\nAmy Baker, Finance Chair, x345, abaker@ourcompany.com  \\nChris Donaldson, Accounting Dir., x621, cdonaldson@ourcompany.com  \\nErin Freeman, Sr. VP, x879, efreeman@ourcompany.com  AUTHORS:  \\nAmy Baker, Finance Chair, x345, abaker@ourcompany.com  \\nChris Donaldson, Accounting Dir., x621, cdonaldson@ourcompany.com  \\nErin Freeman, Sr. VP, x879, efreeman@ourcompany.com  AUTHORS:  \\nAmy Baker, Finance Chair, x345, abaker@ourcompany.com  \\nChris Donaldson, Accounting Dir., x621, cdonaldson@ourcompany.com  \\nErin Freeman, Sr. VP, x879, efreeman@ourcompany.com  '"
            ]
          },
          "execution_count": 31,
          "metadata": {},
          "output_type": "execute_result"
        }
      ],
      "source": [
        "AK1 = open('contacts.txt','a+')\n",
        "AK1.write(page_two_text)\n",
        "\n",
        "AK1.seek(0) ##after reading the first line, AK1.seek(0) is used to reset the file pointer, allowing the code to read all lines from the beginning.\n"
      ]
    },
    {
      "cell_type": "code",
      "execution_count": null,
      "id": "0ffd9cdf-8fd0-4fca-bcec-89e06de7b2a6",
      "metadata": {
        "id": "0ffd9cdf-8fd0-4fca-bcec-89e06de7b2a6"
      },
      "outputs": [],
      "source": [
        "###6.Using the page_two_text variable created above, extract any email addresses that were contained in the file Business_Proposal.pdf.###"
      ]
    },
    {
      "cell_type": "code",
      "execution_count": null,
      "id": "fac6d708-5f6d-4ffb-96e1-dd0599e632d9",
      "metadata": {
        "id": "fac6d708-5f6d-4ffb-96e1-dd0599e632d9"
      },
      "outputs": [],
      "source": [
        "import re"
      ]
    },
    {
      "cell_type": "code",
      "execution_count": null,
      "id": "f47028a7-e6f6-4d30-af6d-231a63a7b446",
      "metadata": {
        "id": "f47028a7-e6f6-4d30-af6d-231a63a7b446",
        "outputId": "04cd93a9-66b9-45ef-e550-eb80ed6fbd87"
      },
      "outputs": [
        {
          "data": {
            "text/plain": [
              "<re.Match object; span=(43, 64), match='abaker@ourcompany.com'>"
            ]
          },
          "execution_count": 33,
          "metadata": {},
          "output_type": "execute_result"
        }
      ],
      "source": [
        "L3 = r'\\w+@\\w+.\\w{3}'\n",
        "re.search(L3 , page_two_text)\n",
        "##Regular expressions can be complex, and email address validation is notoriously difficult."
      ]
    },
    {
      "cell_type": "code",
      "execution_count": null,
      "id": "51ff0feb-7462-475b-bb85-91046b43291d",
      "metadata": {
        "id": "51ff0feb-7462-475b-bb85-91046b43291d"
      },
      "outputs": [],
      "source": []
    }
  ],
  "metadata": {
    "kernelspec": {
      "display_name": "Python 3 (ipykernel)",
      "language": "python",
      "name": "python3"
    },
    "language_info": {
      "codemirror_mode": {
        "name": "ipython",
        "version": 3
      },
      "file_extension": ".py",
      "mimetype": "text/x-python",
      "name": "python",
      "nbconvert_exporter": "python",
      "pygments_lexer": "ipython3",
      "version": "3.12.7"
    },
    "colab": {
      "provenance": []
    }
  },
  "nbformat": 4,
  "nbformat_minor": 5
}